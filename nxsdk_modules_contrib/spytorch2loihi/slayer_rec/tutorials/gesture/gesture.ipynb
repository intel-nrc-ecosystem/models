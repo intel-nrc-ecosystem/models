{
 "cells": [
  {
   "cell_type": "code",
   "execution_count": 1,
   "metadata": {},
   "outputs": [],
   "source": [
    "# Copyright © 2019-2021 Intel Corporation.\n",
    "# \n",
    "# This software and the related documents are Intel copyrighted\n",
    "# materials, and your use of them is governed by the express \n",
    "# license under which they were provided to you (License). Unless\n",
    "# the License provides otherwise, you may not use, modify, copy, \n",
    "# publish, distribute, disclose or transmit  this software or the\n",
    "# related documents without Intel's prior written permission.\n",
    "# \n",
    "# This software and the related documents are provided as is, with\n",
    "# no express or implied warranties, other than those that are \n",
    "# expressly stated in the License."
   ]
  },
  {
   "cell_type": "code",
   "execution_count": 2,
   "metadata": {},
   "outputs": [],
   "source": [
    "import os\n",
    "import nxsdk.api.n2a as nx\n",
    "import time\n",
    "\n",
    "from nxsdk_modules.slayer.src.slayer2loihi import Slayer2Loihi as s2l\n",
    "from gestureDataset import IBMGestureDataset\n",
    "\n",
    "os.environ['SLURM'] = '1' \n",
    "os.environ['PARTITION'] = 'nahuku32'"
   ]
  },
  {
   "cell_type": "markdown",
   "metadata": {},
   "source": [
    "### Get the latest SLAYER models"
   ]
  },
  {
   "cell_type": "code",
   "execution_count": 3,
   "metadata": {},
   "outputs": [],
   "source": [
    "modelPath = s2l.getModels() + '/03_IBMGesture/'"
   ]
  },
  {
   "cell_type": "markdown",
   "metadata": {},
   "source": [
    "### Get the DVS Gesture dataset"
   ]
  },
  {
   "cell_type": "code",
   "execution_count": 4,
   "metadata": {},
   "outputs": [],
   "source": [
    "dataset = IBMGestureDataset('/nfs/ncl/datasets/DVSgesture')"
   ]
  },
  {
   "cell_type": "code",
   "execution_count": 5,
   "metadata": {},
   "outputs": [],
   "source": [
    "spikesPerPacket = 2048\n",
    "\n",
    "# Load a previously compiled board. If you change the model, set this to False to regenerate the board\n",
    "loadState = False\n",
    "# Save the board after compilation so it can be loaded from file. Set to true if generating a new board\n",
    "saveState = False\n",
    "\n",
    "boardName = 'dvs_gesture'\n",
    "regenerateCoreAxon = not loadState\n",
    "\n",
    "# How many Lakemonts to distribute spike injection across\n",
    "numSnips = 1\n",
    "\n",
    "# The NeuroCore from which we'll start placing compartments\n",
    "corenum = 0 \n",
    "\n",
    "# create an empty network\n",
    "net = nx.NxNet()\n",
    "\n",
    "compProto = s2l.compartmentPrototype(modelPath+'network.yaml')"
   ]
  },
  {
   "cell_type": "markdown",
   "metadata": {},
   "source": [
    "### Model\n",
    "| Layer    |      Kernel    |  Output |\n",
    "|----------|:-------------:|------:|\n",
    "| input |  1a | 128x128x2 |\n",
    "| 1 |  4a   | 32x32x2 |\n",
    "| 2 |  16c5 | 32x32x16 |\n",
    "| 3 |  2a | 16x16x16 |\n",
    "| 4 |  32c3 | 16x16x32 |\n",
    "| 5 |  2a | 8x8x64 |\n",
    "| 6 |  10o | 11 |\n"
   ]
  },
  {
   "cell_type": "markdown",
   "metadata": {},
   "source": [
    "### Input Layer\n",
    "128 x 128 x 2"
   ]
  },
  {
   "cell_type": "code",
   "execution_count": 6,
   "metadata": {},
   "outputs": [],
   "source": [
    "inputSpec = dict()\n",
    "\n",
    "inputSpec[\"sizeX\"] = 128\n",
    "inputSpec[\"sizeY\"] = 128\n",
    "inputSpec[\"sizeC\"] = 2\n",
    "compartmentsPerCore = 1024\n",
    "\n",
    "layerInput, inputConnectionGroup, corenum = s2l.inputLayer(net, inputSpec, corenum, compartmentsPerCore)"
   ]
  },
  {
   "cell_type": "markdown",
   "metadata": {},
   "source": [
    "### Layer 1 \n",
    "128 x 128 x 2 input <br>\n",
    "4a pooling <br>\n",
    "32 x 32 x 2 output <br>"
   ]
  },
  {
   "cell_type": "code",
   "execution_count": 7,
   "metadata": {},
   "outputs": [],
   "source": [
    "poolSpec = dict()\n",
    "poolSpec[\"stride\"] = 4\n",
    "poolSpec[\"compProto\"] = compProto\n",
    "poolSpec[\"weightFile\"] = modelPath + 'Trained/pool1.npy'\n",
    "compartmentsPerCore = 4096/16\n",
    "\n",
    "layer1, corenum = s2l.poolingLayer(layerInput, poolSpec, corenum, compartmentsPerCore)"
   ]
  },
  {
   "cell_type": "markdown",
   "metadata": {},
   "source": [
    "### Layer 2\n",
    "32 x 32 x 2 input <br>\n",
    "16c5z convolution <br>\n",
    "32 x 32 x 16 output <br>"
   ]
  },
  {
   "cell_type": "code",
   "execution_count": 8,
   "metadata": {},
   "outputs": [],
   "source": [
    "convSpec = dict()\n",
    "convSpec[\"compProto\"] = compProto\n",
    "convSpec[\"dimX\"] = 5\n",
    "convSpec[\"dimY\"] = 5\n",
    "convSpec[\"dimC\"] = 16\n",
    "convSpec[\"weightFile\"] = modelPath + 'Trained/conv1.npy'\n",
    "compartmentsPerCore = 1024\n",
    "\n",
    "layer2, corenum = s2l.convLayer(layer1, convSpec, corenum, compartmentsPerCore)"
   ]
  },
  {
   "cell_type": "markdown",
   "metadata": {},
   "source": [
    "### Layer 3\n",
    "32 x 32 x 16 input <br>\n",
    "2a pooling <br>\n",
    "16 x 16 x 16 output <br>"
   ]
  },
  {
   "cell_type": "code",
   "execution_count": 9,
   "metadata": {},
   "outputs": [],
   "source": [
    "poolSpec = dict()\n",
    "poolSpec[\"stride\"] = 2\n",
    "poolSpec[\"compProto\"] = compProto\n",
    "poolSpec[\"weightFile\"] = modelPath + 'Trained/pool2.npy'\n",
    "compartmentsPerCore = 1024\n",
    "\n",
    "layer3, corenum = s2l.poolingLayer(layer2, poolSpec, corenum, compartmentsPerCore)"
   ]
  },
  {
   "cell_type": "markdown",
   "metadata": {},
   "source": [
    "### Layer 4\n",
    "16 x 16 x 16 input <br>\n",
    "32c3z convolution <br>\n",
    "16 x 16 x 32 output <br>"
   ]
  },
  {
   "cell_type": "code",
   "execution_count": 10,
   "metadata": {},
   "outputs": [],
   "source": [
    "convSpec = dict()\n",
    "convSpec[\"compProto\"] = compProto\n",
    "convSpec[\"dimX\"] = 3\n",
    "convSpec[\"dimY\"] = 3\n",
    "convSpec[\"dimC\"] = 32\n",
    "convSpec[\"weightFile\"] = modelPath + 'Trained/conv2.npy'\n",
    "compartmentsPerCore = 1024\n",
    "\n",
    "layer4, corenum = s2l.convLayer(layer3, convSpec, corenum, compartmentsPerCore)"
   ]
  },
  {
   "cell_type": "markdown",
   "metadata": {},
   "source": [
    "### Layer 5\n",
    "16 x 16 x 32 input <br>\n",
    "2a pooling <br>\n",
    "8 x 8 x 32 output <br>"
   ]
  },
  {
   "cell_type": "code",
   "execution_count": 11,
   "metadata": {},
   "outputs": [],
   "source": [
    "poolSpec = dict()\n",
    "poolSpec[\"stride\"] = 2\n",
    "poolSpec[\"compProto\"] = compProto\n",
    "poolSpec[\"weightFile\"] = modelPath + 'Trained/pool3.npy'\n",
    "compartmentsPerCore = 256\n",
    "\n",
    "layer5, corenum = s2l.poolingLayer(layer4, poolSpec, corenum, compartmentsPerCore)\n",
    "layer5 = s2l.reorderLayer(layer5)"
   ]
  },
  {
   "cell_type": "markdown",
   "metadata": {},
   "source": [
    "### Layer 6\n",
    "8 x 8 x 32 input <br>\n",
    "512 fully connected <br>\n",
    "512 output <br>"
   ]
  },
  {
   "cell_type": "code",
   "execution_count": 12,
   "metadata": {},
   "outputs": [],
   "source": [
    "fullSpec = dict()\n",
    "fullSpec[\"compProto\"] = compProto\n",
    "fullSpec[\"dim\"] = 512\n",
    "fullSpec[\"weightFile\"] = modelPath + 'Trained/fc1.npy'\n",
    "compartmentsPerCore = 86\n",
    "\n",
    "layer6, corenum  = s2l.fullLayer(layer5, fullSpec, corenum, compartmentsPerCore)"
   ]
  },
  {
   "cell_type": "markdown",
   "metadata": {},
   "source": [
    "### Layer Output\n",
    "512 input <br>\n",
    "11 fully connected <br>\n",
    "11 output <br>"
   ]
  },
  {
   "cell_type": "code",
   "execution_count": 13,
   "metadata": {},
   "outputs": [],
   "source": [
    "fullSpec = dict()\n",
    "fullSpec[\"compProto\"] = compProto\n",
    "fullSpec[\"dim\"] = 11\n",
    "fullSpec[\"weightFile\"] = modelPath + 'Trained/fc2.npy'\n",
    "compartmentsPerCore = 20\n",
    "\n",
    "layerOutput, corenum = s2l.fullLayer(layer6, fullSpec, corenum, compartmentsPerCore)"
   ]
  },
  {
   "cell_type": "code",
   "execution_count": 14,
   "metadata": {},
   "outputs": [],
   "source": [
    "dummyProbes = s2l.setupSpikeCounters(layerOutput)"
   ]
  },
  {
   "cell_type": "code",
   "execution_count": 15,
   "metadata": {},
   "outputs": [
    {
     "name": "stdout",
     "output_type": "stream",
     "text": [
      "Completed compilation in 272.01 seconds \n"
     ]
    }
   ],
   "source": [
    "if loadState is False:\n",
    "    tStart = time.time()\n",
    "    compiler = nx.N2Compiler()\n",
    "    board = compiler.compile(net)\n",
    "    tEnd = time.time()\n",
    "    print(\"Completed compilation in {:.2f} seconds \".format(tEnd-tStart))\n",
    "else:\n",
    "    board, dummyProbes = s2l.initBoard(boardName)"
   ]
  },
  {
   "cell_type": "code",
   "execution_count": 16,
   "metadata": {},
   "outputs": [],
   "source": [
    "numSamples = len(dataset)\n",
    "\n",
    "blankTime = 100 #how many blank timesteps gap between samples\n",
    "spikeTime = dataset.sampleLength\n",
    "sampleLength = spikeTime + blankTime\n",
    "\n",
    "s2l.writeHeader(layerOutput, spikesPerPacket, sampleLength)\n",
    "spikeChannels, core, axon = s2l.prepSpikeInjection(inputConnectionGroup, board, spikesPerPacket, sampleLength, numSnips, regenerateCoreAxon)\n",
    "spikeData, numSteps = s2l.prepSpikeData(core, axon, spikesPerPacket, layerInput, dataset, numSamples, sampleLength, numSnips)"
   ]
  },
  {
   "cell_type": "code",
   "execution_count": 17,
   "metadata": {},
   "outputs": [],
   "source": [
    "spikeCntrChannel = s2l.prepSpikeCounter(board, numSamples, layerOutput.numNodes, int(corenum))"
   ]
  },
  {
   "cell_type": "code",
   "execution_count": 18,
   "metadata": {},
   "outputs": [
    {
     "name": "stdout",
     "output_type": "stream",
     "text": [
      "\u001b[1;30mINFO\u001b[0m:\u001b[34mDRV\u001b[0m:  SLURM is being run in background\n",
      "\u001b[1;30mINFO\u001b[0m:\u001b[34mDRV\u001b[0m:  Connecting to 134.134.68.92:33787\n",
      "\u001b[1;30mINFO\u001b[0m:\u001b[34mDRV\u001b[0m:      Host server up..............Done 0.45s\n",
      "\u001b[1;30mINFO\u001b[0m:\u001b[34mDRV\u001b[0m:      Encoding axons/synapses.....Done 6.74s\n",
      "\u001b[1;30mINFO\u001b[0m:\u001b[34mDRV\u001b[0m:      Compiling Embedded snips....Done 0.77s\n",
      "\u001b[1;30mINFO\u001b[0m:\u001b[34mDRV\u001b[0m:      Compiling MPDS Registers....Done 3.72ms\n",
      "\u001b[1;30mINFO\u001b[0m:\u001b[34mHST\u001b[0m:  Config /etc/nx/pio.cfg\n",
      "\u001b[1;30mINFO\u001b[0m:\u001b[34mHST\u001b[0m:  Args chip=0 cpu=0 /home/sshresth/nxsdk-nxsdk/nxsdk/driver/compilers/../../../temp/1604208662.5784721/launcher_chip0_lmt0.bin --chips=1 --remote-relay=0 --epoch=0 \n",
      "\u001b[1;30mINFO\u001b[0m:\u001b[34mHST\u001b[0m:  Lakemont_driver...\n",
      "\u001b[1;30mINFO\u001b[0m:\u001b[34mDRV\u001b[0m:      Booting up..................Done 7.92s\n",
      "\u001b[1;30mINFO\u001b[0m:\u001b[34mDRV\u001b[0m:      Encoding probes.............Done 2.08ms\n"
     ]
    }
   ],
   "source": [
    "board.start()\n",
    "if saveState is True:\n",
    "    s2l.saveBoard(board, boardName, dummyProbes)\n",
    "if loadState is True:\n",
    "    s2l.loadBoard(board, boardName)"
   ]
  },
  {
   "cell_type": "code",
   "execution_count": 19,
   "metadata": {},
   "outputs": [
    {
     "name": "stdout",
     "output_type": "stream",
     "text": [
      "\u001b[1;30mINFO\u001b[0m:\u001b[34mDRV\u001b[0m:      Transferring probes.........Done 4.79ms\n",
      "\u001b[1;30mINFO\u001b[0m:\u001b[34mDRV\u001b[0m:      Configuring registers.......Done 2.62s\n",
      "\u001b[1;30mINFO\u001b[0m:\u001b[34mDRV\u001b[0m:      Transferring spikes.........Done 0.64ms\n"
     ]
    }
   ],
   "source": [
    "board.run(numSteps, aSync=True)"
   ]
  },
  {
   "cell_type": "code",
   "execution_count": 20,
   "metadata": {},
   "outputs": [],
   "source": [
    "tStart = time.time()\n",
    "s2l.sendSpikeData(spikeData, spikeChannels, spikesPerPacket)"
   ]
  },
  {
   "cell_type": "code",
   "execution_count": 21,
   "metadata": {},
   "outputs": [],
   "source": [
    "numClasses = layerOutput.numNodes\n",
    "results = s2l.getResults(spikeCntrChannel, numSamples, numClasses, dummyProbes)"
   ]
  },
  {
   "cell_type": "code",
   "execution_count": 22,
   "metadata": {},
   "outputs": [
    {
     "name": "stdout",
     "output_type": "stream",
     "text": [
      "\u001b[1;30mINFO\u001b[0m:\u001b[34mDRV\u001b[0m:      Executing...................Done 1.92ms\n",
      "\u001b[1;30mINFO\u001b[0m:\u001b[34mDRV\u001b[0m:      Processing timeseries.......Done 3.25ms\n",
      "\u001b[1;30mINFO\u001b[0m:\u001b[34mHST\u001b[0m:  chip=0 cpu=0 halted, status=0x0\n",
      "Completed 410200 timesteps in 70.26 seconds\n"
     ]
    }
   ],
   "source": [
    "board.finishRun()\n",
    "board.disconnect()\n",
    "tEnd = time.time()\n",
    "print(\"Completed {} timesteps in {:.2f} seconds\".format(numSteps, tEnd-tStart))"
   ]
  },
  {
   "cell_type": "code",
   "execution_count": 23,
   "metadata": {},
   "outputs": [
    {
     "name": "stdout",
     "output_type": "stream",
     "text": [
      "Final accuracy is 92.23%\n"
     ]
    }
   ],
   "source": [
    "labels = dataset.labels\n",
    "accuracy = s2l.checkAccuracy(labels, results)\n",
    "print('Final accuracy is {:.2f}%'.format(accuracy*100))"
   ]
  }
 ],
 "metadata": {
  "kernelspec": {
   "display_name": "Python 3",
   "language": "python",
   "name": "python3"
  },
  "language_info": {
   "codemirror_mode": {
    "name": "ipython",
    "version": 3
   },
   "file_extension": ".py",
   "mimetype": "text/x-python",
   "name": "python",
   "nbconvert_exporter": "python",
   "pygments_lexer": "ipython3",
   "version": "3.5.2"
  }
 },
 "nbformat": 4,
 "nbformat_minor": 4
}
