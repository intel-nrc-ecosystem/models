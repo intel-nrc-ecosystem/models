{
 "cells": [
  {
   "cell_type": "code",
   "execution_count": null,
   "metadata": {},
   "outputs": [],
   "source": [
    "#INTEL CORPORATION CONFIDENTIAL AND PROPRIETARY\n",
    "#\n",
    "# Copyright © 2020-2021 Intel Corporation.\n",
    "# \n",
    "# This software and the related documents are Intel copyrighted\n",
    "# materials, and your use of them is governed by the express \n",
    "# license under which they were provided to you (License). Unless\n",
    "# the License provides otherwise, you may not use, modify, copy, \n",
    "# publish, distribute, disclose or transmit  this software or the\n",
    "# related documents without Intel's prior written permission.\n",
    "# \n",
    "# This software and the related documents are provided as is, with\n",
    "# no express or implied warranties, other than those that are \n",
    "# expressly stated in the License."
   ]
  },
  {
   "cell_type": "markdown",
   "metadata": {},
   "source": [
    "# Import modules"
   ]
  },
  {
   "cell_type": "code",
   "execution_count": 2,
   "metadata": {},
   "outputs": [],
   "source": [
    "import os\n",
    "import sys\n",
    "sys.path.append(os.path.expanduser(\"~\") + \"/nxsdk-nxsdk\")\n",
    "\n",
    "import time\n",
    "import numpy as np\n",
    "import nxsdk.api.n2a as nx\n",
    "import nxsdk_modules.slayer.src as nxSlayer\n",
    "from gestureDataset import Event\n",
    "\n",
    "os.environ['SLURM'] = '1' \n",
    "os.environ['PARTITION'] = 'nahuku32'"
   ]
  },
  {
   "cell_type": "markdown",
   "metadata": {},
   "source": [
    "# Define dataset\n",
    "\n",
    "This is defined here just for demo. Actually __you are supposed to import the dataset module that you defined during SLAYER training__."
   ]
  },
  {
   "cell_type": "code",
   "execution_count": 3,
   "metadata": {},
   "outputs": [],
   "source": [
    "class IBMGestureDataset():\n",
    "    \"\"\"Interface to IBM Gesture Test Dataset\n",
    "    \"\"\"\n",
    "    def __init__(self, path):\n",
    "        self.path = path\n",
    "\n",
    "        testParams = np.loadtxt(self.path + '/test.txt').astype('int')\n",
    "        self.fileNumbers = testParams[:, 0]\n",
    "        self.labels = testParams[:, 1]\n",
    "            \n",
    "    def __getitem__(self, index):\n",
    "        filename = self.path + '/' + str(self.fileNumbers[index]) + '.bs2'\n",
    "        data = Event(filename)\n",
    "        label = self.labels[index]\n",
    "        npEvent = np.zeros((len(data.x), 4))\n",
    "        npEvent[:,0] = data.x\n",
    "        npEvent[:,1] = data.y\n",
    "        npEvent[:,2] = data.p\n",
    "        npEvent[:,3] = data.t\n",
    "\n",
    "        return npEvent, label\n",
    "\n",
    "    def __len__(self):\n",
    "        return len(self.labels)\n",
    "\n"
   ]
  },
  {
   "cell_type": "markdown",
   "metadata": {},
   "source": [
    "# Create nxSlayer Dataset instance"
   ]
  },
  {
   "cell_type": "code",
   "execution_count": 4,
   "metadata": {},
   "outputs": [],
   "source": [
    "dataset = nxSlayer.auto.s2lDataset(IBMGestureDataset(path='/nfs/ncl/datasets/DVSgesture'))"
   ]
  },
  {
   "cell_type": "markdown",
   "metadata": {},
   "source": [
    "# Create network"
   ]
  },
  {
   "cell_type": "code",
   "execution_count": 5,
   "metadata": {},
   "outputs": [],
   "source": [
    "# net = nxSlayer.auto.Network('model.net')\n",
    "net = nxSlayer.auto.Network('model_delay.net')"
   ]
  },
  {
   "cell_type": "markdown",
   "metadata": {},
   "source": [
    "# Compile, setup input-output, and run the network"
   ]
  },
  {
   "cell_type": "code",
   "execution_count": 6,
   "metadata": {},
   "outputs": [
    {
     "name": "stdout",
     "output_type": "stream",
     "text": [
      "Creating Network\n",
      "|   Type   |  W  |  H  |  C  | ker | str | pad |delay|neurons/Core|cores|\n",
      "|input     |  128|  128|    2|     |     |     |False|        1024|   32|\n",
      "|pool      |   32|   32|    2|    4|     |     |False|         256|    8|\n",
      "|conv      |   32|   32|   16|    5|    1|    2|True |         256|   64|\n",
      "|pool      |   16|   16|   16|    2|     |     |False|         341|   13|\n",
      "|conv      |   16|   16|   32|    3|    1|    1|True |         256|   32|\n",
      "|pool      |    8|    8|   32|    2|     |     |False|         340|    7|\n",
      "|dense     |    1|    1|  512|     |     |     |True |          46|   12|\n",
      "|dense     |    1|    1|   11|     |     |     |False|         500|    1|\n",
      "|Total                                                            |  169|\n",
      "\n",
      "Starting compilation ...\n",
      "Completed compilation in 284.03 seconds\n",
      "Using per sample spike time: 1500steps (+ 100steps gap)\n",
      "\u001b[1;30mINFO\u001b[0m:\u001b[34mDRV\u001b[0m:  SLURM is being run in background\n",
      "\u001b[1;30mINFO\u001b[0m:\u001b[34mDRV\u001b[0m:  Connecting to 134.134.68.92:34863\n",
      "\u001b[1;30mINFO\u001b[0m:\u001b[34mDRV\u001b[0m:      Host server up..............Done 0.34s\n",
      "\u001b[1;30mINFO\u001b[0m:\u001b[34mDRV\u001b[0m:      Encoding axons/synapses.....Done 8.54s\n",
      "\u001b[1;30mINFO\u001b[0m:\u001b[34mDRV\u001b[0m:      Compiling Embedded snips....Done 1.37s\n",
      "\u001b[1;30mINFO\u001b[0m:\u001b[34mDRV\u001b[0m:      Compiling MPDS Registers....Done 0.80ms\n",
      "\u001b[1;30mINFO\u001b[0m:\u001b[34mHST\u001b[0m:  Config /etc/nx/pio.cfg\n",
      "\u001b[1;30mINFO\u001b[0m:\u001b[34mHST\u001b[0m:  Args chip=0 cpu=0 /home/sshresth/nxsdk-nxsdk/nxsdk/driver/compilers/../../../temp/1615451475.8896842/launcher_chip0_lmt0.bin --chips=2 --remote-relay=0 --epoch=0 \n",
      "\u001b[1;30mINFO\u001b[0m:\u001b[34mHST\u001b[0m:  Args chip=0 cpu=1 /home/sshresth/nxsdk-nxsdk/nxsdk/driver/compilers/../../../temp/1615451475.8896842/launcher_chip0_lmt1.bin --chips=2 --remote-relay=0 --epoch=0 \n",
      "\u001b[1;30mINFO\u001b[0m:\u001b[34mHST\u001b[0m:  Args chip=0 cpu=2 /home/sshresth/nxsdk-nxsdk/nxsdk/driver/compilers/../../../temp/1615451475.8896842/launcher_chip0_lmt2.bin --chips=2 --remote-relay=0 --epoch=0 \n",
      "\u001b[1;30mINFO\u001b[0m:\u001b[34mHST\u001b[0m:  Args chip=1 cpu=0 /home/sshresth/nxsdk-nxsdk/nxsdk/driver/compilers/../../../temp/1615451475.8896842/launcher_chip1_lmt0.bin --chips=2 --remote-relay=0 --epoch=0 \n",
      "\u001b[1;30mINFO\u001b[0m:\u001b[34mHST\u001b[0m:  Lakemont_driver...\n",
      "\u001b[1;30mINFO\u001b[0m:\u001b[34mDRV\u001b[0m:      Booting up..................Done 1.37s\n",
      "\u001b[1;30mINFO\u001b[0m:\u001b[34mDRV\u001b[0m:      Encoding probes.............Done 0.71ms\n",
      "\u001b[1;30mINFO\u001b[0m:\u001b[34mDRV\u001b[0m:      Transferring probes.........Done 4.26ms\n",
      "\u001b[1;30mINFO\u001b[0m:\u001b[34mDRV\u001b[0m:      Configuring registers.......Done 4.14s\n",
      "\u001b[1;30mINFO\u001b[0m:\u001b[34mDRV\u001b[0m:      Executing...................Done 4.91ms\n",
      "\u001b[1;30mINFO\u001b[0m:\u001b[34mDRV\u001b[0m:      Processing timeseries.......Done 2.34ms\n",
      "\u001b[1;30mINFO\u001b[0m:\u001b[34mHST\u001b[0m:  Dump file exists....Removing it\n",
      "Board saved as dvs_gesture\n",
      "\u001b[1;30mINFO\u001b[0m:\u001b[34mDRV\u001b[0m:      Transferring probes.........Done 1.10ms\n",
      "\u001b[1;30mINFO\u001b[0m:\u001b[34mDRV\u001b[0m:      Configuring registers.......Done 7.81ms\n",
      "\u001b[1;30mINFO\u001b[0m:\u001b[34mDRV\u001b[0m:      Transferring spikes.........Done 0.74ms\n",
      "Gathered results\n",
      "\u001b[1;30mINFO\u001b[0m:\u001b[34mDRV\u001b[0m:      Executing...................Done 3.23ms\n",
      "\u001b[1;30mINFO\u001b[0m:\u001b[34mDRV\u001b[0m:      Processing timeseries.......Done 3.56ms\n",
      "\u001b[1;30mINFO\u001b[0m:\u001b[34mHST\u001b[0m:  chip=0 cpu=0 halted, status=0x0\n",
      "\u001b[1;30mINFO\u001b[0m:\u001b[34mHST\u001b[0m:  chip=1 cpu=0 halted, status=0x0\n",
      "\u001b[1;30mINFO\u001b[0m:\u001b[34mHST\u001b[0m:  chip=0 cpu=1 halted, status=0x0\n",
      "\u001b[1;30mINFO\u001b[0m:\u001b[34mHST\u001b[0m:  chip=0 cpu=2 halted, status=0x0\n",
      "Completed 423400 timesteps in 84.05 seconds\n"
     ]
    }
   ],
   "source": [
    "boardName = 'dvs_gesture'\n",
    "loadSavedBoard = False # True # load precompiledBoard or compile again\n",
    "\n",
    "net.create()\n",
    "\n",
    "if loadSavedBoard is True:\n",
    "    net.compile(boardName)\n",
    "    net.setupIO(dataset, numSnips=3)\n",
    "else:\n",
    "    net.compile()\n",
    "    net.setupIO(dataset, numSnips=3)\n",
    "    net.save(boardName) # this will save the compiled board\n",
    "    \n",
    "results = net.run()"
   ]
  },
  {
   "cell_type": "markdown",
   "metadata": {},
   "source": [
    "# Check accuracy"
   ]
  },
  {
   "cell_type": "code",
   "execution_count": 7,
   "metadata": {},
   "outputs": [
    {
     "name": "stdout",
     "output_type": "stream",
     "text": [
      "Final accuracy is 97.73%\n"
     ]
    }
   ],
   "source": [
    "labels = dataset.labels\n",
    "accuracy = nxSlayer.s2l.checkAccuracy(labels, results)\n",
    "print('Final accuracy is {:.2f}%'.format(accuracy*100))"
   ]
  }
 ],
 "metadata": {
  "kernelspec": {
   "display_name": "Python 3",
   "language": "python",
   "name": "python3"
  },
  "language_info": {
   "codemirror_mode": {
    "name": "ipython",
    "version": 3
   },
   "file_extension": ".py",
   "mimetype": "text/x-python",
   "name": "python",
   "nbconvert_exporter": "python",
   "pygments_lexer": "ipython3",
   "version": "3.5.2"
  }
 },
 "nbformat": 4,
 "nbformat_minor": 4
}
