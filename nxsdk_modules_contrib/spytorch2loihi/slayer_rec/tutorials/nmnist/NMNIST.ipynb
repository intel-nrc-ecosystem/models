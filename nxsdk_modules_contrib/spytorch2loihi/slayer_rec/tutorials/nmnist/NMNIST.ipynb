{
 "cells": [
  {
   "cell_type": "code",
   "execution_count": null,
   "metadata": {},
   "outputs": [],
   "source": [
    "# INTEL CORPORATION CONFIDENTIAL AND PROPRIETARY\n",
    "# \n",
    "# Copyright © 2019-2021 Intel Corporation.\n",
    "# \n",
    "# This software and the related documents are Intel copyrighted\n",
    "# materials, and your use of them is governed by the express \n",
    "# license under which they were provided to you (License). Unless\n",
    "# the License provides otherwise, you may not use, modify, copy, \n",
    "# publish, distribute, disclose or transmit  this software or the\n",
    "# related documents without Intel's prior written permission.\n",
    "# \n",
    "# This software and the related documents are provided as is, with\n",
    "# no express or implied warranties, other than those that are \n",
    "# expressly stated in the License."
   ]
  },
  {
   "cell_type": "code",
   "execution_count": 2,
   "metadata": {},
   "outputs": [],
   "source": [
    "import nxsdk.api.n2a as nx\n",
    "import time\n",
    "import numpy as np\n",
    "\n",
    "from nxsdk_modules.slayer.src.slayer2loihi import Slayer2Loihi as s2l\n",
    "from nmnistDataset import NmnistDataset\n",
    "\n",
    "import os\n",
    "os.environ['SLURM'] = '1'\n",
    "os.environ['PARTITION'] = 'nahuku32'"
   ]
  },
  {
   "cell_type": "markdown",
   "metadata": {},
   "source": [
    "### Get the latest SLAYER models"
   ]
  },
  {
   "cell_type": "code",
   "execution_count": 3,
   "metadata": {},
   "outputs": [],
   "source": [
    "modelPath = s2l.getModels() + '/02_NMNIST/'"
   ]
  },
  {
   "cell_type": "markdown",
   "metadata": {},
   "source": [
    "### Get the NMNIST test data"
   ]
  },
  {
   "cell_type": "code",
   "execution_count": 4,
   "metadata": {},
   "outputs": [],
   "source": [
    "dataset = NmnistDataset('/nfs/ncl/datasets/NMNIST_test')"
   ]
  },
  {
   "cell_type": "code",
   "execution_count": 5,
   "metadata": {},
   "outputs": [],
   "source": [
    "spikesPerPacket = 2048\n",
    "\n",
    "loadState = False\n",
    "saveState = False\n",
    "boardName = 'nmnist'\n",
    "\n",
    "regenerateCoreAxon = not loadState\n",
    "\n",
    "# How many Lakemonts to distribute spike injection across\n",
    "numSnips = 2\n",
    "\n",
    "# The NeuroCore from which we'll start placing compartments\n",
    "corenum = 0 \n",
    "\n",
    "# create an empty network\n",
    "net = nx.NxNet()\n",
    "\n",
    "compProto = s2l.compartmentPrototype(modelPath+'network.yaml')"
   ]
  },
  {
   "cell_type": "markdown",
   "metadata": {},
   "source": [
    "## Input Layer\n",
    "34x34x2"
   ]
  },
  {
   "cell_type": "code",
   "execution_count": 6,
   "metadata": {},
   "outputs": [],
   "source": [
    "inputSpec = dict()\n",
    "inputSpec[\"sizeX\"] = 34\n",
    "inputSpec[\"sizeY\"] = 34\n",
    "inputSpec[\"sizeC\"] = 2\n",
    "inputSpec[\"connProto\"] = compProto\n",
    "\n",
    "compartmentsPerCore = 350\n",
    "\n",
    "layerInput, inputConnectionGroup, corenum = s2l.inputLayer(net, inputSpec, corenum, compartmentsPerCore)\n",
    "\n",
    "# Switching from x-y-p co-ordinates to a fully connected layer requires re-ordering\n",
    "layerInput = s2l.reorderLayer(layerInput)"
   ]
  },
  {
   "cell_type": "markdown",
   "metadata": {},
   "source": [
    "## Layer 1\n",
    "512 Fully Connected"
   ]
  },
  {
   "cell_type": "code",
   "execution_count": 7,
   "metadata": {},
   "outputs": [],
   "source": [
    "fullSpec = dict()\n",
    "fullSpec[\"compProto\"] = compProto\n",
    "fullSpec[\"dim\"] = 512\n",
    "fullSpec[\"weightFile\"] = modelPath + '/Trained/NMNISTFc1.npy'\n",
    "\n",
    "compartmentsPerCore = 64 \n",
    "\n",
    "layer1, corenum  = s2l.fullLayer(layerInput, fullSpec, corenum, compartmentsPerCore)"
   ]
  },
  {
   "cell_type": "markdown",
   "metadata": {},
   "source": [
    "## Output Layer\n",
    "10 Fully Connected"
   ]
  },
  {
   "cell_type": "code",
   "execution_count": 8,
   "metadata": {},
   "outputs": [],
   "source": [
    "fullSpec = dict()\n",
    "fullSpec[\"compProto\"] = compProto\n",
    "fullSpec[\"dim\"] = 10\n",
    "fullSpec[\"weightFile\"] = modelPath + '/Trained/NMNISTFc2.npy'\n",
    "\n",
    "compartmentsPerCore = 10\n",
    "\n",
    "layerOutput, corenum  = s2l.fullLayer(layer1, fullSpec, corenum, compartmentsPerCore)"
   ]
  },
  {
   "cell_type": "code",
   "execution_count": 9,
   "metadata": {},
   "outputs": [],
   "source": [
    "dummyProbes = s2l.setupSpikeCounters(layerOutput)"
   ]
  },
  {
   "cell_type": "code",
   "execution_count": 10,
   "metadata": {},
   "outputs": [],
   "source": [
    "if loadState is False:\n",
    "    compiler = nx.N2Compiler()\n",
    "    board = compiler.compile(net)\n",
    "else:\n",
    "    board, dummyProbes = s2l.initBoard(boardName)"
   ]
  },
  {
   "cell_type": "code",
   "execution_count": 11,
   "metadata": {},
   "outputs": [],
   "source": [
    "numSamples = len(dataset)\n",
    "\n",
    "blankTime = 50 #how many blank timesteps gap between samples\n",
    "spikeTime = dataset.sampleLength\n",
    "sampleLength = spikeTime + blankTime\n",
    "\n",
    "s2l.writeHeader(layerOutput, spikesPerPacket, sampleLength)\n",
    "spikeChannels, core, axon = s2l.prepSpikeInjection(inputConnectionGroup, board, spikesPerPacket, sampleLength, numSnips, regenerateCoreAxon)\n",
    "spikeData, numSteps = s2l.prepSpikeData(core, axon, spikesPerPacket, layerInput, dataset, numSamples, sampleLength, numSnips)"
   ]
  },
  {
   "cell_type": "code",
   "execution_count": 12,
   "metadata": {},
   "outputs": [],
   "source": [
    "numClasses = layerOutput.numNodes\n",
    "spikeCntrChannel = s2l.prepSpikeCounter(board, numSamples, numClasses, int(corenum))"
   ]
  },
  {
   "cell_type": "code",
   "execution_count": 13,
   "metadata": {},
   "outputs": [
    {
     "name": "stdout",
     "output_type": "stream",
     "text": [
      "\u001b[1;30mINFO\u001b[0m:\u001b[34mDRV\u001b[0m:  SLURM is being run in background\n",
      "\u001b[1;30mINFO\u001b[0m:\u001b[34mDRV\u001b[0m:  Connecting to 134.134.68.92:38283\n",
      "\u001b[1;30mINFO\u001b[0m:\u001b[34mDRV\u001b[0m:      Host server up..............Done 0.47s\n",
      "\u001b[1;30mINFO\u001b[0m:\u001b[34mDRV\u001b[0m:      Encoding axons/synapses.....Done 1.65s\n",
      "\u001b[1;30mINFO\u001b[0m:\u001b[34mDRV\u001b[0m:      Compiling Embedded snips....Done 0.91s\n",
      "\u001b[1;30mINFO\u001b[0m:\u001b[34mDRV\u001b[0m:      Compiling MPDS Registers....Done 0.63ms\n",
      "\u001b[1;30mINFO\u001b[0m:\u001b[34mHST\u001b[0m:  Config /etc/nx/pio.cfg\n",
      "\u001b[1;30mINFO\u001b[0m:\u001b[34mHST\u001b[0m:  Args chip=0 cpu=0 /home/sshresth/nxsdk-nxsdk/nxsdk/driver/compilers/../../../temp/1612580162.8726735/launcher_chip0_lmt0.bin --chips=1 --remote-relay=0 --epoch=0 \n",
      "\u001b[1;30mINFO\u001b[0m:\u001b[34mHST\u001b[0m:  Args chip=0 cpu=1 /home/sshresth/nxsdk-nxsdk/nxsdk/driver/compilers/../../../temp/1612580162.8726735/launcher_chip0_lmt1.bin --chips=1 --remote-relay=0 --epoch=0 \n",
      "\u001b[1;30mINFO\u001b[0m:\u001b[34mHST\u001b[0m:  Lakemont_driver...\n",
      "\u001b[1;30mINFO\u001b[0m:\u001b[34mDRV\u001b[0m:      Booting up..................Done 0.84s\n",
      "\u001b[1;30mINFO\u001b[0m:\u001b[34mDRV\u001b[0m:      Encoding probes.............Done 0.62ms\n",
      "\u001b[1;30mINFO\u001b[0m:\u001b[34mDRV\u001b[0m:      Transferring probes.........Done 3.80ms\n",
      "\u001b[1;30mINFO\u001b[0m:\u001b[34mDRV\u001b[0m:      Configuring registers.......Done 0.95s\n",
      "\u001b[1;30mINFO\u001b[0m:\u001b[34mDRV\u001b[0m:      Transferring spikes.........Done 0.53ms\n"
     ]
    }
   ],
   "source": [
    "board.start()\n",
    "if saveState is True:\n",
    "    s2l.saveBoard(board, boardName, dummyProbes)\n",
    "if loadState is True:\n",
    "    s2l.loadBoard(board, boardName)\n",
    "board.run(numSteps, aSync=True)"
   ]
  },
  {
   "cell_type": "code",
   "execution_count": 14,
   "metadata": {},
   "outputs": [],
   "source": [
    "tStart = time.time()\n",
    "s2l.sendSpikeData(spikeData, spikeChannels, spikesPerPacket)"
   ]
  },
  {
   "cell_type": "code",
   "execution_count": 15,
   "metadata": {},
   "outputs": [],
   "source": [
    "numClasses = layerOutput.numNodes\n",
    "results = s2l.getResults(spikeCntrChannel, numSamples, numClasses, dummyProbes)"
   ]
  },
  {
   "cell_type": "code",
   "execution_count": 16,
   "metadata": {},
   "outputs": [
    {
     "name": "stdout",
     "output_type": "stream",
     "text": [
      "\u001b[1;30mINFO\u001b[0m:\u001b[34mDRV\u001b[0m:      Executing...................Done 2.30ms\n",
      "\u001b[1;30mINFO\u001b[0m:\u001b[34mDRV\u001b[0m:      Processing timeseries.......Done 2.35ms\n",
      "\u001b[1;30mINFO\u001b[0m:\u001b[34mHST\u001b[0m:  chip=0 cpu=0 halted, status=0x0\n",
      "\u001b[1;30mINFO\u001b[0m:\u001b[34mHST\u001b[0m:  chip=0 cpu=1 halted, status=0x0\n",
      "Completed 4001000 in  124.66 seconds\n"
     ]
    }
   ],
   "source": [
    "board.finishRun()\n",
    "board.disconnect()\n",
    "tEnd = time.time()\n",
    "print(\"Completed {} in  {:.2f} seconds\".format(numSteps, tEnd-tStart))"
   ]
  },
  {
   "cell_type": "code",
   "execution_count": 17,
   "metadata": {},
   "outputs": [
    {
     "name": "stdout",
     "output_type": "stream",
     "text": [
      "Accuracy is 98.46%\n"
     ]
    }
   ],
   "source": [
    "labels = dataset.labels\n",
    "accuracy = s2l.checkAccuracy(labels, results)\n",
    "print(\"Accuracy is {:.2f}%\".format(accuracy*100))"
   ]
  }
 ],
 "metadata": {
  "kernelspec": {
   "display_name": "Python 3",
   "language": "python",
   "name": "python3"
  },
  "language_info": {
   "codemirror_mode": {
    "name": "ipython",
    "version": 3
   },
   "file_extension": ".py",
   "mimetype": "text/x-python",
   "name": "python",
   "nbconvert_exporter": "python",
   "pygments_lexer": "ipython3",
   "version": "3.5.2"
  }
 },
 "nbformat": 4,
 "nbformat_minor": 4
}
