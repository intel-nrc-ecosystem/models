{
 "cells": [
  {
   "cell_type": "code",
   "execution_count": 1,
   "metadata": {},
   "outputs": [],
   "source": [
    "# Copyright © 2020-2021 Intel Corporation.\n",
    "# \n",
    "# This software and the related documents are Intel copyrighted\n",
    "# materials, and your use of them is governed by the express \n",
    "# license under which they were provided to you (License). Unless\n",
    "# the License provides otherwise, you may not use, modify, copy, \n",
    "# publish, distribute, disclose or transmit  this software or the\n",
    "# related documents without Intel's prior written permission.\n",
    "# \n",
    "# This software and the related documents are provided as is, with\n",
    "# no express or implied warranties, other than those that are \n",
    "# expressly stated in the License."
   ]
  },
  {
   "cell_type": "markdown",
   "metadata": {},
   "source": [
    "# Import modules"
   ]
  },
  {
   "cell_type": "code",
   "execution_count": 2,
   "metadata": {},
   "outputs": [],
   "source": [
    "import sys, os\n",
    "sys.path.append(os.path.expanduser(\"~\") + \"/nxsdk-nxsdk\")\n",
    "import time\n",
    "import numpy as np\n",
    "import nxsdk.api.n2a as nx\n",
    "import nxsdk_modules.slayer.src as nxSlayer\n",
    "from nmnistDataset import Event\n",
    "\n",
    "os.environ['SLURM'] = '1' \n",
    "os.environ['PARTITION'] = 'nahuku32'"
   ]
  },
  {
   "cell_type": "markdown",
   "metadata": {},
   "source": [
    "# Define dataset\n",
    "\n",
    "This is defined here just for demo. Actually __you are supposed to import the dataset module that you defined during SLAYER training__."
   ]
  },
  {
   "cell_type": "code",
   "execution_count": 3,
   "metadata": {},
   "outputs": [],
   "source": [
    "class NMNISTDataset():\n",
    "    \"\"\"Interface to NMNIST Test Dataset\n",
    "    \"\"\"\n",
    "    def __init__(self, path):\n",
    "        self.path = path\n",
    "        self.labels = np.loadtxt(self.path+'/labels.txt').astype(int)\n",
    "            \n",
    "    def __getitem__(self, index):\n",
    "        filename = self.path + '/' + str(index+1).zfill(5) + '.bin'\n",
    "        data = Event(filename)\n",
    "        label = self.labels[index]\n",
    "        npEvent = np.zeros((len(data.x), 4))\n",
    "        npEvent[:,0] = data.x\n",
    "        npEvent[:,1] = data.y\n",
    "        npEvent[:,2] = data.p\n",
    "        npEvent[:,3] = data.t\n",
    "\n",
    "        return npEvent, label\n",
    "\n",
    "    def __len__(self):\n",
    "        return len(self.labels)\n",
    "\n"
   ]
  },
  {
   "cell_type": "markdown",
   "metadata": {},
   "source": [
    "# Create nxSlayer Dataset instance"
   ]
  },
  {
   "cell_type": "code",
   "execution_count": 4,
   "metadata": {},
   "outputs": [],
   "source": [
    "dataset = nxSlayer.auto.s2lDataset(NMNISTDataset(path='/nfs/ncl/datasets/NMNIST_test'))"
   ]
  },
  {
   "cell_type": "markdown",
   "metadata": {},
   "source": [
    "# Create network"
   ]
  },
  {
   "cell_type": "code",
   "execution_count": 5,
   "metadata": {},
   "outputs": [],
   "source": [
    "net = nxSlayer.auto.Network('nmnist.net')"
   ]
  },
  {
   "cell_type": "markdown",
   "metadata": {},
   "source": [
    "# Compile, setup input-output, and run the network"
   ]
  },
  {
   "cell_type": "code",
   "execution_count": 6,
   "metadata": {},
   "outputs": [
    {
     "name": "stdout",
     "output_type": "stream",
     "text": [
      "Creating Network\n",
      "|   Type   |  W  |  H  |  C  | ker | str | pad |delay|neurons/Core|cores|\n",
      "|input     |   34|   34|    2|     |     |     |False|         341|    7|\n",
      "|dense     |    1|    1|  512|     |     |     |False|          62|    9|\n",
      "|dense     |    1|    1|   10|     |     |     |False|         277|    1|\n",
      "|Total                                                            |   17|\n",
      "\n",
      "Starting compilation ...\n",
      "Completed compilation in 93.69 seconds\n",
      "Using per sample spike time: 350steps (+ 100steps gap)\n",
      "\u001b[1;30mINFO\u001b[0m:\u001b[34mDRV\u001b[0m:  SLURM is being run in background\n",
      "\u001b[1;30mINFO\u001b[0m:\u001b[34mDRV\u001b[0m:  Connecting to 134.134.68.92:34905\n",
      "\u001b[1;30mINFO\u001b[0m:\u001b[34mDRV\u001b[0m:      Host server up..............Done 0.67s\n",
      "\u001b[1;30mINFO\u001b[0m:\u001b[34mDRV\u001b[0m:      Encoding axons/synapses.....Done 1.78s\n",
      "\u001b[1;30mINFO\u001b[0m:\u001b[34mDRV\u001b[0m:      Compiling Embedded snips....Done 0.97s\n",
      "\u001b[1;30mINFO\u001b[0m:\u001b[34mDRV\u001b[0m:      Compiling MPDS Registers....Done 0.67ms\n",
      "\u001b[1;30mINFO\u001b[0m:\u001b[34mHST\u001b[0m:  Config /etc/nx/pio.cfg\n",
      "\u001b[1;30mINFO\u001b[0m:\u001b[34mHST\u001b[0m:  Args chip=0 cpu=0 /home/sshresth/nxsdk-nxsdk/nxsdk/driver/compilers/../../../temp/1612580555.0209997/launcher_chip0_lmt0.bin --chips=1 --remote-relay=0 --epoch=0 \n",
      "\u001b[1;30mINFO\u001b[0m:\u001b[34mDRV\u001b[0m:      Booting up..................Done 1.12s\n",
      "\u001b[1;30mINFO\u001b[0m:\u001b[34mDRV\u001b[0m:      Encoding probes.............Done 0.62ms\n",
      "\u001b[1;30mINFO\u001b[0m:\u001b[34mDRV\u001b[0m:      Transferring probes.........Done 0.04s\n",
      "\u001b[1;30mINFO\u001b[0m:\u001b[34mHST\u001b[0m:  Args chip=0 cpu=1 /home/sshresth/nxsdk-nxsdk/nxsdk/driver/compilers/../../../temp/1612580555.0209997/launcher_chip0_lmt1.bin --chips=1 --remote-relay=0 --epoch=0 \n",
      "\u001b[1;30mINFO\u001b[0m:\u001b[34mHST\u001b[0m:  Args chip=0 cpu=2 /home/sshresth/nxsdk-nxsdk/nxsdk/driver/compilers/../../../temp/1612580555.0209997/launcher_chip0_lmt2.bin --chips=1 --remote-relay=0 --epoch=0 \n",
      "\u001b[1;30mINFO\u001b[0m:\u001b[34mHST\u001b[0m:  Lakemont_driver...\n",
      "\u001b[1;30mINFO\u001b[0m:\u001b[34mDRV\u001b[0m:      Configuring registers.......Done 1.26s\n",
      "\u001b[1;30mINFO\u001b[0m:\u001b[34mDRV\u001b[0m:      Executing...................Done 0.05s\n",
      "\u001b[1;30mINFO\u001b[0m:\u001b[34mDRV\u001b[0m:      Processing timeseries.......Done 0.03s\n",
      "Board saved as nmnist\n",
      "\u001b[1;30mINFO\u001b[0m:\u001b[34mDRV\u001b[0m:      Transferring probes.........Done 0.62ms\n",
      "\u001b[1;30mINFO\u001b[0m:\u001b[34mDRV\u001b[0m:      Configuring registers.......Done 2.99ms\n",
      "\u001b[1;30mINFO\u001b[0m:\u001b[34mDRV\u001b[0m:      Transferring spikes.........Done 0.52ms\n",
      "Gathered results\n",
      "\u001b[1;30mINFO\u001b[0m:\u001b[34mDRV\u001b[0m:      Executing...................Done 2.18ms\n",
      "\u001b[1;30mINFO\u001b[0m:\u001b[34mDRV\u001b[0m:      Processing timeseries.......Done 2.42ms\n",
      "\u001b[1;30mINFO\u001b[0m:\u001b[34mHST\u001b[0m:  chip=0 cpu=0 halted, status=0x0\n",
      "\u001b[1;30mINFO\u001b[0m:\u001b[34mHST\u001b[0m:  chip=0 cpu=1 halted, status=0x0\n",
      "\u001b[1;30mINFO\u001b[0m:\u001b[34mHST\u001b[0m:  chip=0 cpu=2 halted, status=0x0\n",
      "Completed 4501000 timesteps in 166.65 seconds\n"
     ]
    }
   ],
   "source": [
    "boardName = 'nmnist'\n",
    "loadSavedBoard = False # True # load precompiledBoard or compile again\n",
    "\n",
    "net.create()\n",
    "\n",
    "if loadSavedBoard is True:\n",
    "    net.compile(boardName)\n",
    "    net.setupIO(dataset, numSnips=3)\n",
    "else:\n",
    "    net.compile()\n",
    "    net.setupIO(dataset, numSnips=3)\n",
    "    net.save(boardName) # this will save the compiled board\n",
    "    \n",
    "results = net.run()"
   ]
  },
  {
   "cell_type": "markdown",
   "metadata": {},
   "source": [
    "# Check accuracy"
   ]
  },
  {
   "cell_type": "code",
   "execution_count": 7,
   "metadata": {},
   "outputs": [
    {
     "name": "stdout",
     "output_type": "stream",
     "text": [
      "Final accuracy is 98.49%\n"
     ]
    }
   ],
   "source": [
    "labels = dataset.labels\n",
    "accuracy = nxSlayer.s2l.checkAccuracy(labels, results)\n",
    "print('Final accuracy is {:.2f}%'.format(accuracy*100))"
   ]
  }
 ],
 "metadata": {
  "kernelspec": {
   "display_name": "Python 3",
   "language": "python",
   "name": "python3"
  },
  "language_info": {
   "codemirror_mode": {
    "name": "ipython",
    "version": 3
   },
   "file_extension": ".py",
   "mimetype": "text/x-python",
   "name": "python",
   "nbconvert_exporter": "python",
   "pygments_lexer": "ipython3",
   "version": "3.5.2"
  }
 },
 "nbformat": 4,
 "nbformat_minor": 4
}
