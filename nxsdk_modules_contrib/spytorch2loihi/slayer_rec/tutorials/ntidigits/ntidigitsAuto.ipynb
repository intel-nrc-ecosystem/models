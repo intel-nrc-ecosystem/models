{
 "cells": [
  {
   "cell_type": "code",
   "execution_count": 1,
   "metadata": {},
   "outputs": [],
   "source": [
    "#INTEL CORPORATION CONFIDENTIAL AND PROPRIETARY\n",
    "#\n",
    "#Copyright © 2021 Intel Corporation.\n",
    "#\n",
    "#This software and the related documents are Intel copyrighted\n",
    "#materials, and your use of them is governed by the express\n",
    "#license under which they were provided to you (License). Unless\n",
    "#the License provides otherwise, you may not use, modify, copy,\n",
    "#publish, distribute, disclose or transmit  this software or the\n",
    "#related documents without Intel's prior written permission.\n",
    "#\n",
    "#This software and the related documents are provided as is, with\n",
    "#no express or implied warranties, other than those that are\n",
    "#expressly stated in the License."
   ]
  },
  {
   "cell_type": "markdown",
   "metadata": {},
   "source": [
    "# Import modules"
   ]
  },
  {
   "cell_type": "code",
   "execution_count": 2,
   "metadata": {},
   "outputs": [],
   "source": [
    "import os\n",
    "import sys\n",
    "\n",
    "import time\n",
    "import numpy as np\n",
    "import nxsdk.api.n2a as nx\n",
    "import nxsdk_modules.slayer.src as nxSlayer\n",
    "from ntidigits_dataset import NTIDIGITSDataset\n",
    "\n",
    "os.environ['SLURM'] = '1' \n",
    "os.environ['PARTITION'] = 'nahuku32'"
   ]
  },
  {
   "cell_type": "markdown",
   "metadata": {},
   "source": [
    "# Create nxSlayer Dataset instance"
   ]
  },
  {
   "cell_type": "code",
   "execution_count": 3,
   "metadata": {},
   "outputs": [
    {
     "name": "stdout",
     "output_type": "stream",
     "text": [
      "Neuromorphic TIDIGITS dataset is the work of Sensors Group, Institute of \n",
      "Neuromoroinformatics, Zurich. It is publicly available under Creative \n",
      "Commons Attribution-ShareAlike 4.0 International License here: \n",
      "http://sensors.ini.uzh.ch/databases.html\n",
      "\n",
      "Please cite the following paper if you make use of it.\n",
      "\n",
      "Jithendar Anumula, Daniel Neil, Tobi Delbruck and Shih-Chii Liu, \n",
      "\"Feature Representations for Neuromorphic Audio Spike Streams.\" \n",
      "Front. Neurosci., vol. 12, p. 23, 2018.\n"
     ]
    }
   ],
   "source": [
    "dataset = nxSlayer.auto.s2lDataset(dataset = NTIDIGITSDataset(train = False))"
   ]
  },
  {
   "cell_type": "markdown",
   "metadata": {},
   "source": [
    "# Create network"
   ]
  },
  {
   "cell_type": "code",
   "execution_count": 4,
   "metadata": {},
   "outputs": [],
   "source": [
    "net = nxSlayer.auto.Network('ntidigits.net')"
   ]
  },
  {
   "cell_type": "markdown",
   "metadata": {},
   "source": [
    "# Compile, setup input-output, and run the network"
   ]
  },
  {
   "cell_type": "code",
   "execution_count": 5,
   "metadata": {},
   "outputs": [
    {
     "name": "stdout",
     "output_type": "stream",
     "text": [
      "Creating Network\n",
      "|   Type   |  W  |  H  |  C  | ker | str | pad |delay|neurons/Core|cores|\n",
      "|input     |   64|    1|    1|     |     |     |False|        1024|    1|\n",
      "|dense     |    1|    1|  256|     |     |     |True |         128|    2|\n",
      "|dense     |    1|    1|  256|     |     |     |True |         128|    2|\n",
      "|dense     |    1|    1|  242|     |     |     |False|         336|    1|\n",
      "|average   |    1|    1|   11|     |     |     |False|           0|    0|\n",
      "|Total                                                            |    6|\n",
      "\n",
      "Starting compilation ...\n",
      "Completed compilation in 11.27 seconds\n",
      "Using per sample spike time: 3000steps (+ 100steps gap)\n",
      "\u001b[1;30mINFO\u001b[0m:\u001b[34mDRV\u001b[0m:  SLURM is being run in background\n",
      "\u001b[1;30mINFO\u001b[0m:\u001b[34mDRV\u001b[0m:  Connecting to 134.134.68.92:36537\n",
      "\u001b[1;30mINFO\u001b[0m:\u001b[34mDRV\u001b[0m:      Host server up..............Done 0.43s\n",
      "\u001b[1;30mINFO\u001b[0m:\u001b[34mDRV\u001b[0m:      Encoding axons/synapses.....Done 0.19s\n",
      "\u001b[1;30mINFO\u001b[0m:\u001b[34mDRV\u001b[0m:      Compiling Embedded snips....Done 0.65s\n",
      "\u001b[1;30mINFO\u001b[0m:\u001b[34mDRV\u001b[0m:      Compiling MPDS Registers....Done 0.62ms\n",
      "\u001b[1;30mINFO\u001b[0m:\u001b[34mHST\u001b[0m:  Config /etc/nx/pio.cfg\n",
      "\u001b[1;30mINFO\u001b[0m:\u001b[34mHST\u001b[0m:  Args chip=0 cpu=0 /home/sshresth/nxsdk-nxsdk/nxsdk/driver/compilers/../../../temp/1615503073.9025764/launcher_chip0_lmt0.bin --chips=1 --remote-relay=0 --epoch=0 \n",
      "\u001b[1;30mINFO\u001b[0m:\u001b[34mHST\u001b[0m:  Args chip=0 cpu=1 /home/sshresth/nxsdk-nxsdk/nxsdk/driver/compilers/../../../temp/1615503073.9025764/launcher_chip0_lmt1.bin --chips=1 --remote-relay=0 --epoch=0 \n",
      "\u001b[1;30mINFO\u001b[0m:\u001b[34mHST\u001b[0m:  Args chip=0 cpu=2 /home/sshresth/nxsdk-nxsdk/nxsdk/driver/compilers/../../../temp/1615503073.9025764/launcher_chip0_lmt2.bin --chips=1 --remote-relay=0 --epoch=0 \n",
      "\u001b[1;30mINFO\u001b[0m:\u001b[34mHST\u001b[0m:  Lakemont_driver...\n",
      "\u001b[1;30mINFO\u001b[0m:\u001b[34mDRV\u001b[0m:      Booting up..................Done 0.87s\n",
      "\u001b[1;30mINFO\u001b[0m:\u001b[34mDRV\u001b[0m:      Encoding probes.............Done 1.05ms\n",
      "\u001b[1;30mINFO\u001b[0m:\u001b[34mDRV\u001b[0m:      Transferring probes.........Done 6.34ms\n",
      "\u001b[1;30mINFO\u001b[0m:\u001b[34mDRV\u001b[0m:      Configuring registers.......Done 0.17s\n",
      "\u001b[1;30mINFO\u001b[0m:\u001b[34mDRV\u001b[0m:      Transferring spikes.........Done 0.56ms\n",
      "Gathered results\n",
      "\u001b[1;30mINFO\u001b[0m:\u001b[34mDRV\u001b[0m:      Executing...................Done 0.04s\n",
      "\u001b[1;30mINFO\u001b[0m:\u001b[34mDRV\u001b[0m:      Processing timeseries.......Done 2.50ms\n",
      "\u001b[1;30mINFO\u001b[0m:\u001b[34mHST\u001b[0m:  chip=0 cpu=1 halted, status=0x0\n",
      "\u001b[1;30mINFO\u001b[0m:\u001b[34mHST\u001b[0m:  chip=0 cpu=0 halted, status=0x0\n",
      "\u001b[1;30mINFO\u001b[0m:\u001b[34mHST\u001b[0m:  chip=0 cpu=2 halted, status=0x0\n",
      "Completed 7707600 timesteps in 159.10 seconds\n"
     ]
    }
   ],
   "source": [
    "boardName = 'ntidigits'\n",
    "loadSavedBoard = False # True # load precompiledBoard or compile again\n",
    "\n",
    "net.create()\n",
    "\n",
    "if loadSavedBoard is True:\n",
    "    net.compile(boardName)\n",
    "    net.setupIO(dataset, numSnips=3)\n",
    "else:\n",
    "    net.compile()\n",
    "    net.setupIO(dataset, numSnips=3)\n",
    "    # net.save(boardName) # this will save the compiled board\n",
    "    \n",
    "results = net.run()"
   ]
  },
  {
   "cell_type": "markdown",
   "metadata": {},
   "source": [
    "# Gather output population results"
   ]
  },
  {
   "cell_type": "code",
   "execution_count": 6,
   "metadata": {},
   "outputs": [],
   "source": [
    "results = results.reshape(results.shape[0], 11, -1).sum(axis=2)"
   ]
  },
  {
   "cell_type": "markdown",
   "metadata": {},
   "source": [
    "# Check accuracy"
   ]
  },
  {
   "cell_type": "code",
   "execution_count": 7,
   "metadata": {},
   "outputs": [
    {
     "name": "stdout",
     "output_type": "stream",
     "text": [
      "Final accuracy is 92.20%\n"
     ]
    }
   ],
   "source": [
    "labels = dataset.labels\n",
    "accuracy = nxSlayer.s2l.checkAccuracy(labels, results)\n",
    "print('Final accuracy is {:.2f}%'.format(accuracy*100))"
   ]
  }
 ],
 "metadata": {
  "kernelspec": {
   "display_name": "Python 3",
   "language": "python",
   "name": "python3"
  },
  "language_info": {
   "codemirror_mode": {
    "name": "ipython",
    "version": 3
   },
   "file_extension": ".py",
   "mimetype": "text/x-python",
   "name": "python",
   "nbconvert_exporter": "python",
   "pygments_lexer": "ipython3",
   "version": "3.5.2"
  }
 },
 "nbformat": 4,
 "nbformat_minor": 4
}
